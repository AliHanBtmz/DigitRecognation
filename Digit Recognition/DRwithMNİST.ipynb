{
  "nbformat": 4,
  "nbformat_minor": 0,
  "metadata": {
    "colab": {
      "provenance": []
    },
    "kernelspec": {
      "name": "python3",
      "display_name": "Python 3"
    },
    "language_info": {
      "name": "python"
    }
  },
  "cells": [
    {
      "cell_type": "code",
      "execution_count": null,
      "metadata": {
        "id": "-1K3K7l0y_Lo"
      },
      "outputs": [],
      "source": [
        "import numpy as np\n",
        "import keras\n",
        "from keras import layers\n",
        "import matplotlib.pyplot as plt\n",
        "import cv2\n",
        "import math\n",
        "from scipy import ndimage\n",
        "import torch\n",
        "import torch.nn as nn\n",
        "from google.colab import files\n",
        "\n",
        "\n",
        "import keras.datasets as ds\n",
        "import matplotlib.pyplot as plt\n",
        "from keras.models import Sequential,Model\n",
        "from keras.layers import Conv2D, MaxPooling2D, ReLU, Flatten, Dense, Dropout\n",
        "import keras\n",
        "import numpy as np\n",
        "import pandas as pd\n",
        "from keras.models import load_model\n",
        "import warnings\n",
        "\n",
        "warnings.filterwarnings(\"ignore\")\n",
        "%matplotlib inline\n",
        "import numpy as np\n",
        "import keras\n",
        "from keras import layers\n",
        "import matplotlib.pyplot as plt\n",
        "import cv2\n",
        "import math\n",
        "from scipy import ndimage\n",
        "import matplotlib.pyplot as plt\n",
        "import numpy as np\n",
        "\n"
      ]
    },
    {
      "cell_type": "markdown",
      "source": [
        "## Network Architecture:\n",
        "- 32 x 3 x 3 CONV\n",
        "- 64 x 3 x 3 CONV\n",
        "- 2 x 2 MAX POOL\n",
        "- 128 FC\n",
        "- DROPOUT (%50)\n",
        "- 10 FC\n"
      ],
      "metadata": {
        "id": "qpEr4lQP3yGu"
      }
    },
    {
      "cell_type": "code",
      "source": [
        "# Model / data parameters\n",
        "\n",
        "num_classes = 10\n",
        "input_shape = (28, 28, 1)\n",
        "\n",
        "# Load the data and split it between train and test sets\n",
        "(x_train, y_train), (x_test, y_test) = keras.datasets.mnist.load_data()\n",
        "\n",
        "# Scale images to the [0, 1] range\n",
        "x_train = x_train.astype(\"float32\") / 255\n",
        "x_test = x_test.astype(\"float32\") / 255\n",
        "# Make sure images have shape (28, 28, 1)\n",
        "x_train = np.expand_dims(x_train, -1)\n",
        "x_test = np.expand_dims(x_test, -1)\n",
        "print(\"x_train shape:\", x_train.shape)\n",
        "print(x_train.shape[0], \"train samples\")\n",
        "print(x_test.shape[0], \"test samples\")\n",
        "\n",
        "\n",
        "# convert class vectors to binary class matrices\n",
        "y_train = keras.utils.to_categorical(y_train, num_classes)\n",
        "y_test = keras.utils.to_categorical(y_test, num_classes)"
      ],
      "metadata": {
        "colab": {
          "base_uri": "https://localhost:8080/"
        },
        "id": "BDpz5mUuzPP1",
        "outputId": "479d8bb9-aad3-4157-ce59-feb4dcb38fd4"
      },
      "execution_count": null,
      "outputs": [
        {
          "output_type": "stream",
          "name": "stdout",
          "text": [
            "x_train shape: (60000, 28, 28, 1)\n",
            "60000 train samples\n",
            "10000 test samples\n"
          ]
        }
      ]
    },
    {
      "cell_type": "code",
      "source": [
        "model = keras.Sequential(\n",
        "    [\n",
        "        keras.Input(shape=input_shape),\n",
        "        layers.Conv2D(32, kernel_size=(3, 3), activation=\"relu\"),\n",
        "        layers.MaxPooling2D(pool_size=(2, 2)),\n",
        "        layers.Conv2D(64, kernel_size=(3, 3), activation=\"relu\"),\n",
        "        layers.MaxPooling2D(pool_size=(2, 2)),\n",
        "        layers.Flatten(),\n",
        "        layers.Dropout(0.5),\n",
        "        layers.Dense(num_classes, activation=\"softmax\"),\n",
        "    ]\n",
        ")\n",
        "\n",
        "model.summary()"
      ],
      "metadata": {
        "colab": {
          "base_uri": "https://localhost:8080/"
        },
        "id": "5YcznkvV4CTt",
        "outputId": "71c46803-b0d6-4820-fcfe-fee827811514"
      },
      "execution_count": null,
      "outputs": [
        {
          "output_type": "stream",
          "name": "stdout",
          "text": [
            "Model: \"sequential_1\"\n",
            "_________________________________________________________________\n",
            " Layer (type)                Output Shape              Param #   \n",
            "=================================================================\n",
            " conv2d_2 (Conv2D)           (None, 26, 26, 32)        320       \n",
            "                                                                 \n",
            " max_pooling2d_2 (MaxPoolin  (None, 13, 13, 32)        0         \n",
            " g2D)                                                            \n",
            "                                                                 \n",
            " conv2d_3 (Conv2D)           (None, 11, 11, 64)        18496     \n",
            "                                                                 \n",
            " max_pooling2d_3 (MaxPoolin  (None, 5, 5, 64)          0         \n",
            " g2D)                                                            \n",
            "                                                                 \n",
            " flatten_1 (Flatten)         (None, 1600)              0         \n",
            "                                                                 \n",
            " dropout_1 (Dropout)         (None, 1600)              0         \n",
            "                                                                 \n",
            " dense_1 (Dense)             (None, 10)                16010     \n",
            "                                                                 \n",
            "=================================================================\n",
            "Total params: 34826 (136.04 KB)\n",
            "Trainable params: 34826 (136.04 KB)\n",
            "Non-trainable params: 0 (0.00 Byte)\n",
            "_________________________________________________________________\n"
          ]
        }
      ]
    },
    {
      "cell_type": "code",
      "source": [
        "batch_size = 128\n",
        "epochs = 15\n",
        "\n",
        "model.compile(loss=\"categorical_crossentropy\", optimizer=\"adam\", metrics=[\"accuracy\"])\n",
        "\n",
        "model.fit(x_train, y_train, batch_size=batch_size, epochs=epochs, validation_split=0.1)"
      ],
      "metadata": {
        "colab": {
          "base_uri": "https://localhost:8080/"
        },
        "id": "ov7e5Flq4F6e",
        "outputId": "0c6f6959-74db-4616-d078-92c39d949f64"
      },
      "execution_count": null,
      "outputs": [
        {
          "output_type": "stream",
          "name": "stdout",
          "text": [
            "Epoch 1/15\n",
            "422/422 [==============================] - 46s 106ms/step - loss: 0.3457 - accuracy: 0.8941 - val_loss: 0.0764 - val_accuracy: 0.9793\n",
            "Epoch 2/15\n",
            "422/422 [==============================] - 43s 101ms/step - loss: 0.1062 - accuracy: 0.9673 - val_loss: 0.0585 - val_accuracy: 0.9838\n",
            "Epoch 3/15\n",
            "422/422 [==============================] - 42s 98ms/step - loss: 0.0797 - accuracy: 0.9753 - val_loss: 0.0472 - val_accuracy: 0.9867\n",
            "Epoch 4/15\n",
            "422/422 [==============================] - 41s 98ms/step - loss: 0.0674 - accuracy: 0.9791 - val_loss: 0.0437 - val_accuracy: 0.9860\n",
            "Epoch 5/15\n",
            "422/422 [==============================] - 41s 98ms/step - loss: 0.0601 - accuracy: 0.9807 - val_loss: 0.0406 - val_accuracy: 0.9883\n",
            "Epoch 6/15\n",
            "422/422 [==============================] - 44s 104ms/step - loss: 0.0551 - accuracy: 0.9826 - val_loss: 0.0364 - val_accuracy: 0.9893\n",
            "Epoch 7/15\n",
            "422/422 [==============================] - 42s 100ms/step - loss: 0.0510 - accuracy: 0.9839 - val_loss: 0.0340 - val_accuracy: 0.9908\n",
            "Epoch 8/15\n",
            "422/422 [==============================] - 42s 100ms/step - loss: 0.0466 - accuracy: 0.9851 - val_loss: 0.0354 - val_accuracy: 0.9895\n",
            "Epoch 9/15\n",
            "422/422 [==============================] - 42s 100ms/step - loss: 0.0429 - accuracy: 0.9866 - val_loss: 0.0330 - val_accuracy: 0.9908\n",
            "Epoch 10/15\n",
            "422/422 [==============================] - 43s 103ms/step - loss: 0.0418 - accuracy: 0.9870 - val_loss: 0.0306 - val_accuracy: 0.9927\n",
            "Epoch 11/15\n",
            "422/422 [==============================] - 41s 97ms/step - loss: 0.0397 - accuracy: 0.9875 - val_loss: 0.0304 - val_accuracy: 0.9920\n",
            "Epoch 12/15\n",
            "422/422 [==============================] - 42s 99ms/step - loss: 0.0365 - accuracy: 0.9886 - val_loss: 0.0309 - val_accuracy: 0.9920\n",
            "Epoch 13/15\n",
            "422/422 [==============================] - 42s 99ms/step - loss: 0.0367 - accuracy: 0.9882 - val_loss: 0.0328 - val_accuracy: 0.9913\n",
            "Epoch 14/15\n",
            "422/422 [==============================] - 42s 100ms/step - loss: 0.0328 - accuracy: 0.9893 - val_loss: 0.0293 - val_accuracy: 0.9932\n",
            "Epoch 15/15\n",
            "422/422 [==============================] - 45s 106ms/step - loss: 0.0316 - accuracy: 0.9894 - val_loss: 0.0296 - val_accuracy: 0.9922\n"
          ]
        },
        {
          "output_type": "execute_result",
          "data": {
            "text/plain": [
              "<keras.src.callbacks.History at 0x787f8bce8100>"
            ]
          },
          "metadata": {},
          "execution_count": 36
        }
      ]
    },
    {
      "cell_type": "code",
      "source": [
        "\n",
        "model.save('CNNwithMNİST.h5')"
      ],
      "metadata": {
        "colab": {
          "base_uri": "https://localhost:8080/"
        },
        "id": "D4EW37PnBJG_",
        "outputId": "b594ccc6-33f6-4860-a72b-8775b10cd0d6"
      },
      "execution_count": null,
      "outputs": [
        {
          "output_type": "stream",
          "name": "stderr",
          "text": [
            "/usr/local/lib/python3.10/dist-packages/keras/src/engine/training.py:3103: UserWarning: You are saving your model as an HDF5 file via `model.save()`. This file format is considered legacy. We recommend using instead the native Keras format, e.g. `model.save('my_model.keras')`.\n",
            "  saving_api.save_model(\n"
          ]
        }
      ]
    },
    {
      "cell_type": "code",
      "source": [
        "# Download model\n",
        "files.download('CNNwithMNİST.h5')"
      ],
      "metadata": {
        "colab": {
          "base_uri": "https://localhost:8080/",
          "height": 17
        },
        "id": "CDoOiFWsNr36",
        "outputId": "c3f46469-7c21-4041-a079-17c49250a9d5"
      },
      "execution_count": null,
      "outputs": [
        {
          "output_type": "display_data",
          "data": {
            "text/plain": [
              "<IPython.core.display.Javascript object>"
            ],
            "application/javascript": [
              "\n",
              "    async function download(id, filename, size) {\n",
              "      if (!google.colab.kernel.accessAllowed) {\n",
              "        return;\n",
              "      }\n",
              "      const div = document.createElement('div');\n",
              "      const label = document.createElement('label');\n",
              "      label.textContent = `Downloading \"${filename}\": `;\n",
              "      div.appendChild(label);\n",
              "      const progress = document.createElement('progress');\n",
              "      progress.max = size;\n",
              "      div.appendChild(progress);\n",
              "      document.body.appendChild(div);\n",
              "\n",
              "      const buffers = [];\n",
              "      let downloaded = 0;\n",
              "\n",
              "      const channel = await google.colab.kernel.comms.open(id);\n",
              "      // Send a message to notify the kernel that we're ready.\n",
              "      channel.send({})\n",
              "\n",
              "      for await (const message of channel.messages) {\n",
              "        // Send a message to notify the kernel that we're ready.\n",
              "        channel.send({})\n",
              "        if (message.buffers) {\n",
              "          for (const buffer of message.buffers) {\n",
              "            buffers.push(buffer);\n",
              "            downloaded += buffer.byteLength;\n",
              "            progress.value = downloaded;\n",
              "          }\n",
              "        }\n",
              "      }\n",
              "      const blob = new Blob(buffers, {type: 'application/binary'});\n",
              "      const a = document.createElement('a');\n",
              "      a.href = window.URL.createObjectURL(blob);\n",
              "      a.download = filename;\n",
              "      div.appendChild(a);\n",
              "      a.click();\n",
              "      div.remove();\n",
              "    }\n",
              "  "
            ]
          },
          "metadata": {}
        },
        {
          "output_type": "display_data",
          "data": {
            "text/plain": [
              "<IPython.core.display.Javascript object>"
            ],
            "application/javascript": [
              "download(\"download_c696e88b-64f6-4449-80fa-89f95f884d51\", \"CNNwithMN\\u0130ST.h5\", 458272)"
            ]
          },
          "metadata": {}
        }
      ]
    },
    {
      "cell_type": "code",
      "source": [
        "# Loading a pre-trained Keras model\n",
        "model=keras.models.load_model('CNNwithMNİST.h5')\n",
        "# Evaluating the model performance on the test dataset\n",
        "score = model.evaluate(x_test, y_test, verbose=0)\n",
        "# Printing the test loss and accuracy\n",
        "print(\"Test loss:\", score[0])\n",
        "print(\"Test accuracy:\", score[1])"
      ],
      "metadata": {
        "colab": {
          "base_uri": "https://localhost:8080/"
        },
        "id": "oc25GkQt4I-k",
        "outputId": "8b27e7bf-2371-49e2-dd44-6a0e4994dd21"
      },
      "execution_count": null,
      "outputs": [
        {
          "output_type": "stream",
          "name": "stdout",
          "text": [
            "Test loss: 0.022670915350317955\n",
            "Test accuracy: 0.9919999837875366\n"
          ]
        }
      ]
    },
    {
      "cell_type": "code",
      "source": [
        "from sklearn.metrics import confusion_matrix\n",
        "import seaborn as sns\n",
        "import matplotlib.pyplot as plt\n",
        "\n",
        "# Make predictions on test data set\n",
        "y_pred = model.predict(x_test)\n",
        "y_pred_classes = np.argmax(y_pred, axis=1)\n",
        "y_true = np.argmax(y_test, axis=1)\n",
        "\n",
        "# Create confusion matrix\n",
        "conf_matrix = confusion_matrix(y_true, y_pred_classes)\n",
        "\n",
        "# Visualize the confusion matrix\n",
        "plt.figure(figsize=(10, 8))\n",
        "sns.heatmap(conf_matrix, annot=True, fmt=\"d\", cmap=\"Blues\", xticklabels=np.arange(10), yticklabels=np.arange(10))\n",
        "plt.title('Confusion Matrix')\n",
        "plt.xlabel('Predicted')\n",
        "plt.ylabel('True')\n",
        "plt.show()"
      ],
      "metadata": {
        "colab": {
          "base_uri": "https://localhost:8080/",
          "height": 735
        },
        "id": "ghwXoOJK62iM",
        "outputId": "a47e4a96-5681-4bee-ad14-202b12904fd3"
      },
      "execution_count": null,
      "outputs": [
        {
          "output_type": "stream",
          "name": "stdout",
          "text": [
            "313/313 [==============================] - 7s 20ms/step\n"
          ]
        },
        {
          "output_type": "display_data",
          "data": {
            "text/plain": [
              "<Figure size 1000x800 with 2 Axes>"
            ],
            "image/png": "[encoded data removed]"
          },
          "metadata": {}
        }
      ]
    },
    {
      "cell_type": "code",
      "source": [
        "def getBestShift(img):\n",
        "     # Compute the center of mass of the image\n",
        "    cy, cx = ndimage.center_of_mass(img)\n",
        "    # Get the number of rows and columns in the image\n",
        "    rows, cols = img.shape\n",
        "    # Compute the shift necessary to center the image\n",
        "    shiftx = np.round(cols / 2.0 - cx).astype(int)\n",
        "    shifty = np.round(rows / 2.0 - cy).astype(int)\n",
        "\n",
        "    return shiftx, shifty\n",
        "\n",
        "\n",
        "def shift(img, sx, sy):\n",
        "    # Shift the image by (sx, sy) using an affine transformation\n",
        "    rows, cols = img.shape\n",
        "    M = np.float32([[1, 0, sx], [0, 1, sy]])\n",
        "    shifted = cv2.warpAffine(img, M, (cols, rows))\n",
        "    return shifted\n",
        "\n",
        "# Create arrays to store images and their corresponding correct values\n",
        "images = np.zeros((4,28,28))\n",
        "correct_vals = np.zeros((4,10))\n",
        "\n",
        "# Iterate over the images\n",
        "i = 0\n",
        "for no in [8,0,4,3]:\n",
        "    # read the image\n",
        "    gray = cv2.imread(\"/content/drive/MyDrive/resim/\"+str(no)+\".png\", cv2.IMREAD_GRAYSCALE)\n",
        "\n",
        "    # resize the images and invert it (black background)\n",
        "    gray = cv2.resize(255-gray, (28, 28))\n",
        "    (thresh, gray) = cv2.threshold(gray, 128, 255, cv2.THRESH_BINARY | cv2.THRESH_OTSU)\n",
        "\n",
        "    # Remove excess padding from the image\n",
        "    while np.sum(gray[0]) == 0:\n",
        "      gray = gray[1:]\n",
        "\n",
        "    while np.sum(gray[:,0]) == 0:\n",
        "      gray = np.delete(gray,0,1)\n",
        "\n",
        "    while np.sum(gray[-1]) == 0:\n",
        "      gray = gray[:-1]\n",
        "\n",
        "    while np.sum(gray[:,-1]) == 0:\n",
        "      gray = np.delete(gray,-1,1)\n",
        "\n",
        "    rows,cols = gray.shape\n",
        "\n",
        "    # Resize the image to fit into a 28x28 square\n",
        "    if rows > cols:\n",
        "      factor = 20.0/rows\n",
        "      rows = 20\n",
        "      cols = int(round(cols*factor))\n",
        "      gray = cv2.resize(gray, (cols,rows))\n",
        "    else:\n",
        "      factor = 20.0/cols\n",
        "      cols = 20\n",
        "      rows = int(round(rows*factor))\n",
        "      gray = cv2.resize(gray, (cols, rows))\n",
        "\n",
        "    # Add padding to the image to make it 28x28\n",
        "    colsPadding = (int(math.ceil((28-cols)/2.0)),int(math.floor((28-cols)/2.0)))\n",
        "    rowsPadding = (int(math.ceil((28-rows)/2.0)),int(math.floor((28-rows)/2.0)))\n",
        "    gray = np.lib.pad(gray,(rowsPadding,colsPadding),'constant')\n",
        "\n",
        "\n",
        "    # Shift the image to center it\n",
        "    shiftx,shifty = getBestShift(gray)\n",
        "    shifted = shift(gray,shiftx,shifty)\n",
        "    gray = shifted\n",
        "    print(gray)\n",
        "\n",
        "\n",
        "    # save the processed images\n",
        "    cv2.imwrite(\"/content/drive/MyDrive/resim/image_\"+str(no)+\".png\", gray)\n",
        "    \"\"\"\n",
        "    all images in the training set have an range from 0-1\n",
        "    and not from 0-255 so we divide our flatten images\n",
        "    (a one dimensional vector with our 784 pixels)\n",
        "    to use the same 0-1 based range\n",
        "    \"\"\"\n",
        "    \"\"\"\n",
        "    we need to store the flatten image and generate\n",
        "    the correct_vals array\n",
        "    correct_val for the first digit (9) would be\n",
        "    [0,0,0,0,0,0,0,0,0,1]\n",
        "    \"\"\"\n",
        "    # Store the image and its corresponding correct value\n",
        "    images[i] = gray\n",
        "    correct_val = np.zeros((10))\n",
        "    correct_val[no] = 1\n",
        "    correct_vals[i] = correct_val\n",
        "    i += 1"
      ],
      "metadata": {
        "colab": {
          "base_uri": "https://localhost:8080/"
        },
        "id": "2CxK8gd2MG6O",
        "outputId": "593e5bca-b809-477c-d770-3e191b7159f1"
      },
      "execution_count": null,
      "outputs": [
        {
          "output_type": "stream",
          "name": "stdout",
          "text": [
            "[[  0   0   0   0   0   0   0   0   0   0   0   0   0   0   0   0   0   0\n",
            "    0   0   0   0   0   0   0   0   0   0]\n",
            " [  0   0   0   0   0   0   0   0   0   0   0   0   0   0   0   0   0   0\n",
            "    0   0   0   0   0   0   0   0   0   0]\n",
            " [  0   0   0   0   0   0   0   0   0   0   0   0   0   0   0   0   0   0\n",
            "    0   0   0   0   0   0   0   0   0   0]\n",
            " [  0   0   0   0   0   0   0   0   0   0   0   0   0   0   0   0   0   0\n",
            "    0   0   0   0   0   0   0   0   0   0]\n",
            " [  0   0   0   0   0   0   0   0   0   0   0   0   0   0   0   4   6 180\n",
            "  255  48   6   0   0   0   0   0   0   0]\n",
            " [  0   0   0   0   0   0   0   0   0   0   0   0   0   0  10 153 255 241\n",
            "  236 236 253  27   0   0   0   0   0   0]\n",
            " [  0   0   0   0   0   0   0   1  32  27   0   0   0  14 143 255 235  67\n",
            "    0   0 201 254   0   0   0   0   0   0]\n",
            " [  0   0   0   0   0   0   0  51 255 220  45  31  16 136 233 210  77   0\n",
            "    0   0   0 246   0   0   0   0   0   0]\n",
            " [  0   0   0   0   0   0   0 253 198 198 211 196 130 230  99   0   0   0\n",
            "    0   0  52 248   0   0   0   0   0   0]\n",
            " [  0   0   0   0   0   0   0 247   0   0  43 206 255 144   0   0   0   0\n",
            "    0   0 229 255   0   0   0   0   0   0]\n",
            " [  0   0   0   0   0   0   0 249  75   0   0  76 255 145   0   0   0   0\n",
            "    0  69 238 175   0   0   0   0   0   0]\n",
            " [  0   0   0   0   0   0   0 255 229   0   0  76 255 186  96  41   0   0\n",
            "    0 212 255   8   0   0   0   0   0   0]\n",
            " [  0   0   0   0   0   0   0 150 240 108  83  76 255 255 255 110  69  32\n",
            "   83 231 157   5   0   0   0   0   0   0]\n",
            " [  0   0   0   0   0   0   0   4 146 255 224 161 255 255 255 110  85 125\n",
            "  224 154  13   0   0   0   0   0   0   0]\n",
            " [  0   0   0   0   0   0   0   0  12 121 152 255 255 255 188  52  85 219\n",
            "  152  20   0   0   0   0   0   0   0   0]\n",
            " [  0   0   0   0   0   0   0   0   0   0  25 108 162 255 201 147 215 152\n",
            "   25   0   0   0   0   0   0   0   0   0]\n",
            " [  0   0   0   0   0   0   0   0   0   0   0   0  93 255 255 255 255  76\n",
            "    0   0   0   0   0   0   0   0   0   0]\n",
            " [  0   0   0   0   0   0   0   0  17 172 172 172 202 255 169 180 255 197\n",
            "   40   0   0   0   0   0   0   0   0   0]\n",
            " [  0   0   0   0   0   0   0   6 192 255 255 199  70  70  35  40 187 255\n",
            "  201  31   0   0   0   0   0   0   0   0]\n",
            " [  0   0   0   0   0   0   0   8 255 255 209  40   0   0   0   0  36 196\n",
            "  255  42   0   0   0   0   0   0   0   0]\n",
            " [  0   0   0   0   0   0   0 212 234  45  34   0   0   0   0   0   0 178\n",
            "  255 218  21   0   0   0   0   0   0   0]\n",
            " [  0   0   0   0   0   0   0  39 252 186   0   0   0   0   0   0   0  22\n",
            "  203 255  25   0   0   0   0   0   0   0]\n",
            " [  0   0   0   0   0   0   0   1  43 252 236 236 149   0   0   0   0 165\n",
            "  250 255  25   0   0   0   0   0   0   0]\n",
            " [  0   0   0   0   0   0   0   0   1   6  64 255 253 249 249 249 249 253\n",
            "  255  48   1   0   0   0   0   0   0   0]\n",
            " [  0   0   0   0   0   0   0   0   0   0   0   0   0   0   0   0   0   0\n",
            "    0   0   0   0   0   0   0   0   0   0]\n",
            " [  0   0   0   0   0   0   0   0   0   0   0   0   0   0   0   0   0   0\n",
            "    0   0   0   0   0   0   0   0   0   0]\n",
            " [  0   0   0   0   0   0   0   0   0   0   0   0   0   0   0   0   0   0\n",
            "    0   0   0   0   0   0   0   0   0   0]\n",
            " [  0   0   0   0   0   0   0   0   0   0   0   0   0   0   0   0   0   0\n",
            "    0   0   0   0   0   0   0   0   0   0]]\n",
            "[[  0   0   0   0   0   0   0   0   0   0   0   0   0   0   0   0   0   0\n",
            "    0   0   0   0   0   0   0   0   0   0]\n",
            " [  0   0   0   0   0   0   0   0   0   0   0   0   0   0   0   0   0   0\n",
            "    0   0   0   0   0   0   0   0   0   0]\n",
            " [  0   0   0   0   0   0   0   0   0   0   0   0   0   0   0   0   0   0\n",
            "    0   0   0   0   0   0   0   0   0   0]\n",
            " [  0   0   0   0   0   0   0   0   0   0   0   0   0   0   0   0   0   0\n",
            "    0   0   0   0   0   0   0   0   0   0]\n",
            " [  0   0   0   0   0   0   0   0   0   0   0   0   0   0   0   0   0   0\n",
            "    0   0   0   0   0   0   0   0   0   0]\n",
            " [  0   0   0   0   0   0   0   0   0   0   0   0   0   0   0   0   0   0\n",
            "    0   0   0   0   0   0   0   0   0   0]\n",
            " [  0   0   0   0   0   0   0   0   0   0   0   0   0   0   0   0   0   0\n",
            "    0   0   0   0   0   0   0   0   0   0]\n",
            " [  0   0   0   0   0   0   0   0   0   0   0   0   0   5 162 255 255 255\n",
            "  255 255  26   8   0   0   0   0   0   0]\n",
            " [  0   0   0   0   0   0   0   0   0   0   0  11  24 157 255 239 231 231\n",
            "  231 231 253 255   0   0   0   0   0   0]\n",
            " [  0   0   0   0   0   0   0   0   0   0  17 142 255 255 255 110  11   0\n",
            "    0   0 236 255   0   0   0   0   0   0]\n",
            " [  0   0   0   0   0   0   0   0   0  21 140 255 226 199 199 199  55   0\n",
            "    0   0 184 253   0   0   0   0   0   0]\n",
            " [  0   0   0   0   0   0   0   0   0  95 255 221  87   0   0   0   0   0\n",
            "    0   0  66 250   0   0   0   0   0   0]\n",
            " [  0   0  85   0   0   0   0   0  29 150 218  88   0   0   0   0   0   0\n",
            "    0   0 236 255   0   0   0   0   0   0]\n",
            " [  0   0 148   0   0   0   0  28 153 255 147   0   0   0   0   0   0   0\n",
            "    0   0 236 255   0   0   0   0   0   0]\n",
            " [  0   0   0   0   0   0   0  70 255 255 147   0   0   0   0   0   0   0\n",
            "    0   0 236 255   0   0   0   0   0   0]\n",
            " [  0   0   0   0   0   0   0  70 255 204  69   0   0   0   0   0   0   0\n",
            "    0 119 246 123   0   0   0   0   0   0]\n",
            " [  0   0   0   0   0   0   0  70 255 159   0   0   0   0   0   0   0   0\n",
            "  125 242 255   6   0   0   0   0   0   0]\n",
            " [  0   0   0   0   0   0   0  70 255 159   0   0   0   0   0   0   0   0\n",
            "  210 255 100   2   0   0   0   0   0   0]\n",
            " [  0   0   0   0   0   0   0  70 255 228 105   0   0   0   0   0 133 183\n",
            "  242  94   5   0   0   0   0   0   0   0]\n",
            " [  0   0   0   0   0   0   0  15 121 255 147   0   0   0   0 134 239 255\n",
            "   91   7   0   0   0   0   0   0   0   0]\n",
            " [  0   0   0   0   0   0   0   0  83 255 238 215 102   0 134 242 255  88\n",
            "    7   0   0   0   0   0   0   0   0   0]\n",
            " [  0   0   0   0   0   0   0   0   8 110 255 255 242 231 246 255  87   5\n",
            "    0   0   0   0   0   0   0   0   0   0]\n",
            " [  0   0   0   0   0   0   0   0   0   3   8 125 255 255 100   8   2   0\n",
            "    0   0   0   0   0   0   0   0   0   0]\n",
            " [  0   0   0   0   0   0   0   0   0   0   0   0   0   0   0   0   0   0\n",
            "    0   0   0   0   0   0   0   0   0   0]\n",
            " [  0   0   0   0   0   0   0   0   0   0   0   0   0   0   0   0   0   0\n",
            "    0   0   0   0   0   0   0   0   0   0]\n",
            " [  0   0   0   0   0   0   0   0   0   0   0   0   0   0   0   0   0   0\n",
            "    0   0   0   0   0   0   0   0   0   0]\n",
            " [  0   0   0   0   0   0   0   0   0   0   0   0   0   0   0   0   0   0\n",
            "    0   0   0   0   0   0   0   0   0   0]\n",
            " [  0   0   0   0   0   0   0   0   0   0   0   0   0   0   0   0   0   0\n",
            "    0   0   0   0   0   0   0   0   0   0]]\n",
            "[[  0   0   0   0   0   0   0   0   0   0   0   0   0   0   0   0   0   0\n",
            "    0   0   0   0   0   0   0   0   0   0]\n",
            " [  0   0   0   0   0   0   0   0   0   0   0   0   0   0   0   0   0   0\n",
            "    0   0   0   0   0   0   0   0   0   0]\n",
            " [  0   0   0   0   0   0   0   0   0   0   0   0   0   0   0   0   0   0\n",
            "    0   0   0   0   0   0   0   0   0   0]\n",
            " [  0   0   0   0   0   0   0   0   0   0   0   0   0   0   0   0   0   0\n",
            "    0   0   0   0   0   0   0   0   0   0]\n",
            " [  0   0   0   0   0   0   0   0   0   0   0   0   0   0   0   0   0   0\n",
            "    0   0   0   0   0   0   0   0   0   0]\n",
            " [  0   0   0   0   0   0   0   0   0   0   0 159 255 255 241 241  32   0\n",
            "    0   0   0   0   0   0   0   0   0   0]\n",
            " [  0   0   0   0   0   0   0   0   0   0  43 202 255 140  88  88  18   0\n",
            "    0   0   0   0   0   0   0   0   0   0]\n",
            " [  0   0   0   0   0   0   0   0   0   0  95 255  88   0   0   0   0   0\n",
            "    0   0   0   0   0   0   0   0   0   0]\n",
            " [  0   0   0   0   0   0   0   0   0  32 255 247  30   0   0   0   0   0\n",
            "    0   0  11   0   0   0   0   0   0   0]\n",
            " [  0   0   0   0   0   0   0   0   0  32 255  95   0   0   0   0   0   0\n",
            "    0  56 156   0   0   0   0   0   0   0]\n",
            " [  0   0   0   0   0   0   0   0   0  32 255  95   0   0   0   0   0   0\n",
            "   62 221  32   0   0   0   0   0   0   0]\n",
            " [  0   0   0   0   0   0   0   0   0 244 255  96   0   0   0   0   0  30\n",
            "  247 103   2   0   0   0   0   0   0   0]\n",
            " [  0   0   0   0   0   0   0   0   0 199 255  95   0   0   0   0   0 255\n",
            "  231  72   0   0   0   0   0   0   0   0]\n",
            " [  0   0   0   0   0   0   0   0   0 154 255  96   0   0   0   0 123 255\n",
            "  159   0   0   0   0   0   0   0   0   0]\n",
            " [  0   0   0   0   0   0   0   0   0  65 255  96   0   0   0   0 223 255\n",
            "  159   0   0   0   0   0   0   0   0   0]\n",
            " [  0   0   0   0   0   0   0   0   0  32 255 119   5   0   0  24 228 223\n",
            "    0   0   0   0   0   0   0   0   0   0]\n",
            " [  0   0   0   0   0   0   0   0   0  18 183 255  32   0   0 159 255 237\n",
            "  115  43   0   0   0   0   0   0   0   0]\n",
            " [  0   0   0   0   0   0   0   0   0   0  95 255 199 167   0 159 255 255\n",
            "  183  24   0   0   0   0   0   0   0   0]\n",
            " [  0   0   0   0   0   0   0   0   0   0   0 151 253 255 255 255 255 223\n",
            "    0   0   0   0   0   0   0   0   0   0]\n",
            " [  0   0   0   0   0   0   0   0   0   0   0   0 145 177 255 255 255 145\n",
            "    0   0   0   0   0   0   0   0   0   0]\n",
            " [  0   0   0   0   0   0   0   0   0   0   0   0   0  11  89 193 255   0\n",
            "    0   0   0   0   0   0   0   0   0   0]\n",
            " [  0   0   0   0   0   0   0   0   0   0   0   0   0   0  91 250  43   0\n",
            "    0   0   0   0   0   0   0   0   0   0]\n",
            " [  0   0   0   0   0   0   0   0   0   0   0   0   0   0  72 231  88   0\n",
            "    0   0   0   0   0   0   0   0   0   0]\n",
            " [  0   0   0   0   0   0   0   0   0   0   0   0   0   0  53 212 255   0\n",
            "    0   0   0   0   0   0   0   0   0   0]\n",
            " [  0   0   0   0   0   0   0   0   0   0   0   0   0   0  14 173  65   0\n",
            "    0   0   0   0   0   0   0   0   0   0]\n",
            " [  0   0   0   0   0   0   0   0   0   0   0   0   0   0   0   0   0   0\n",
            "    0   0   0   0   0   0   0   0   0   0]\n",
            " [  0   0   0   0   0   0   0   0   0   0   0   0   0   0   0   0   0   0\n",
            "    0   0   0   0   0   0   0   0   0   0]\n",
            " [  0   0   0   0   0   0   0   0   0   0   0   0   0   0   0   0   0   0\n",
            "    0   0   0   0   0   0   0   0   0   0]]\n",
            "[[  0   0   0   0   0   0   0   0   0   0   0   0   0   0   0   0   0   0\n",
            "    0   0   0   0   0   0   0   0   0   0]\n",
            " [  0   0   0   0   0   0   0   0   0   0   0   0   0   0   0   0   0   0\n",
            "    0   0   0   0   0   0   0   0   0   0]\n",
            " [  0   0   0   0   0   0   0   0   0   0   0   0   0   0   0   0   0   0\n",
            "    0   0   0   0   0   0   0   0   0   0]\n",
            " [  0   0   0   0   0   0   0   0   0   0   0   0   0   0   0   0   0   0\n",
            "    0   0   0   0   0   0   0   0   0   0]\n",
            " [  0   0   0   0   0   0   0   0   0   0   0  28 227  32  12   0   0   0\n",
            "    0   0   0   0   0   0   0   0   0   0]\n",
            " [  0   0   0   0   0   0   0   0   0   0  60 235 255 255 155  96  84   0\n",
            "    0   0   0   0   0   0   0   0   0   0]\n",
            " [  0   0   0   0   0   0   0   0   0  60 219 115 115 255 255 255 243 100\n",
            "    0   0   0   0   0   0   0   0   0   0]\n",
            " [  0   0   0   0   0   0   0   0   0  12 171  32   4 115 255 255 255 243\n",
            "  223  28   0   0   0   0   0   0   0   0]\n",
            " [  0   0   0   0   0   0   0   0   0   0   0   0   0   0   0  28 255 255\n",
            "  255  32   0   0   0   0   0   0   0   0]\n",
            " [  0   0   0   0   0   0   0   0   0   0   0   0  12  60  60 235 255 255\n",
            "  195  20   0   0   0   0   0   0   0   0]\n",
            " [  0   0   0   0   0   0   0   0   0   0   0 139 171 219 219 255 235  96\n",
            "   36   0   0   0   0   0   0   0   0   0]\n",
            " [  0   0   0   0   0   0   0   0   0   0   0 223 255 255 255 255  28   0\n",
            "    0   0   0   0   0   0   0   0   0   0]\n",
            " [  0   0   0   0   0   0   0   0   0   0   0 195 255 159   0   0   0   0\n",
            "    0   0   0   0   0   0   0   0   0   0]\n",
            " [  0   0   0   0   0   0   0   0   0   0   0   0 255 195  96  12   0   0\n",
            "    0   0   0   0   0   0   0   0   0   0]\n",
            " [  0   0   0   0   0   0   0   0   0   0   0   0 115 255 255 171   0   0\n",
            "    0   0   0   0   0   0   0   0   0   0]\n",
            " [  0   0   0   0   0   0   0   0   0   0   0   0   4  32 171 255 195   0\n",
            "    0   0   0   0   0   0   0   0   0   0]\n",
            " [  0   0   0   0   0   0   0   0   0   0   0   0   0   0 139 251 255 171\n",
            "   12   0   0   0   0   0   0   0   0   0]\n",
            " [  0   0   0   0   0   0   0   0   0  36  36   0   0   0   0 139 171 255\n",
            "  155  12   0   0   0   0   0   0   0   0]\n",
            " [  0   0   0   0   0   0   0   0 159 195 195 159   0   0   0   0  32 255\n",
            "  255  32   0   0   0   0   0   0   0   0]\n",
            " [  0   0   0   0   0   0   0   0 255 255 255  60   0   0   0   0   4 115\n",
            "  255 227   0   0   0   0   0   0   0   0]\n",
            " [  0   0   0   0   0   0   0   0  28 223 243 255  32  32  32   4   0  95\n",
            "  255 255   0   0   0   0   0   0   0   0]\n",
            " [  0   0   0   0   0   0   0   0   0   0 100 159 255 255 255 115  96 155\n",
            "  255 255   0   0   0   0   0   0   0   0]\n",
            " [  0   0   0   0   0   0   0   0   0   0   0   0 115 255 255 255 255 255\n",
            "  255 255   0   0   0   0   0   0   0   0]\n",
            " [  0   0   0   0   0   0   0   0   0   0   0   0   4  32 171 255 227 115\n",
            "  115  32   0   0   0   0   0   0   0   0]\n",
            " [  0   0   0   0   0   0   0   0   0   0   0   0   0   0   0   0   0   0\n",
            "    0   0   0   0   0   0   0   0   0   0]\n",
            " [  0   0   0   0   0   0   0   0   0   0   0   0   0   0   0   0   0   0\n",
            "    0   0   0   0   0   0   0   0   0   0]\n",
            " [  0   0   0   0   0   0   0   0   0   0   0   0   0   0   0   0   0   0\n",
            "    0   0   0   0   0   0   0   0   0   0]\n",
            " [  0   0   0   0   0   0   0   0   0   0   0   0   0   0   0   0   0   0\n",
            "    0   0   0   0   0   0   0   0   0   0]]\n"
          ]
        }
      ]
    },
    {
      "cell_type": "code",
      "source": [
        "y_pred = model.predict(images)\n",
        "y_pred"
      ],
      "metadata": {
        "colab": {
          "base_uri": "https://localhost:8080/"
        },
        "id": "DFuRKo8tMHj-",
        "outputId": "332f508f-772d-4797-90dd-96021ce7d2f1"
      },
      "execution_count": null,
      "outputs": [
        {
          "output_type": "stream",
          "name": "stdout",
          "text": [
            "1/1 [==============================] - 0s 25ms/step\n"
          ]
        },
        {
          "output_type": "execute_result",
          "data": {
            "text/plain": [
              "array([[0., 0., 0., 0., 0., 0., 0., 0., 1., 0.],\n",
              "       [1., 0., 0., 0., 0., 0., 0., 0., 0., 0.],\n",
              "       [0., 0., 0., 0., 1., 0., 0., 0., 0., 0.],\n",
              "       [0., 0., 0., 1., 0., 0., 0., 0., 0., 0.]], dtype=float32)"
            ]
          },
          "metadata": {},
          "execution_count": 24
        }
      ]
    },
    {
      "cell_type": "markdown",
      "source": [
        "* 4 Predictions Above are Correct ✔"
      ],
      "metadata": {
        "id": "57NwVn5HMj7g"
      }
    }
  ]
}